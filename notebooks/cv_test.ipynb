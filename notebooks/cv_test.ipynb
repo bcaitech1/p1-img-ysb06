{
 "metadata": {
  "language_info": {
   "codemirror_mode": {
    "name": "ipython",
    "version": 3
   },
   "file_extension": ".py",
   "mimetype": "text/x-python",
   "name": "python",
   "nbconvert_exporter": "python",
   "pygments_lexer": "ipython3",
   "version": "3.7.7"
  },
  "orig_nbformat": 2,
  "kernelspec": {
   "name": "python377jvsc74a57bd098b0a9b7b4eaaa670588a142fd0a9b87eaafe866f1db4228be72b4211d12040f",
   "display_name": "Python 3.7.7 64-bit ('base': conda)"
  }
 },
 "nbformat": 4,
 "nbformat_minor": 2,
 "cells": [
  {
   "cell_type": "code",
   "execution_count": null,
   "metadata": {},
   "outputs": [],
   "source": [
    "from notebooks.cv_test import recognite\n",
    "import pandas as pd\n",
    "from tqdm import tqdm\n",
    "from glob import glob\n",
    "import matplotlib.pyplot as plt\n",
    "import random\n"
   ]
  },
  {
   "cell_type": "code",
   "execution_count": null,
   "metadata": {
    "tags": []
   },
   "outputs": [],
   "source": [
    "data_root_path = \"/opt/ml/input/data\"\n",
    "\n",
    "image_path = f\"{data_root_path}/train/images\"\n",
    "label_raw = pd.read_csv(f\"{data_root_path}/train/train.csv\")\n",
    "\n",
    "for index, label_data in tqdm(enumerate(label_raw.iloc), total=len(label_raw)):\n",
    "    target_image_dir = image_path + '/' + label_data[\"path\"] + '/'\n",
    "\n",
    "    inc_mask_image_path = glob(target_image_dir + \"incorrect_mask.*\")[0]\n",
    "    mask_images_path = glob(target_image_dir + \"mask*\")\n",
    "    normal_image_path = glob(target_image_dir + \"normal.*\")[0]\n",
    "\n",
    "    sample_figure = plt.figure(figsize=(12, 8))\n",
    "\n",
    "    result = recognite(inc_mask_image_path)\n",
    "    plt.subplot(2, 4, 1)\n",
    "    plt.grid(False)\n",
    "    plt.imshow(result)\n",
    "    \n",
    "    for index_a, mask_image_path in enumerate(mask_images_path):\n",
    "        result = recognite(mask_image_path)\n",
    "        plt.subplot(2, 4, index_a + 2)\n",
    "        plt.grid(False)\n",
    "        plt.imshow(result)\n",
    "    \n",
    "    result = recognite(normal_image_path)\n",
    "    plt.subplot(2, 4, 7)\n",
    "    plt.imshow(result)\n",
    "\n",
    "    if index == 100:\n",
    "        plt.grid(False)\n",
    "        plt.show()\n"
   ]
  }
 ]
}